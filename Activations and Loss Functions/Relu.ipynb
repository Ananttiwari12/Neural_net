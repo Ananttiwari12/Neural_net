{
 "cells": [
  {
   "cell_type": "code",
   "execution_count": 1,
   "metadata": {},
   "outputs": [],
   "source": [
    "import numpy as np"
   ]
  },
  {
   "cell_type": "code",
   "execution_count": 2,
   "metadata": {},
   "outputs": [],
   "source": [
    "class Activation_Relu:\n",
    "\n",
    "    def forward(self,inputs):\n",
    "        self.inputs=inputs\n",
    "        self.output= np.maximum(0,inputs)\n",
    "\n",
    "    def backward (self, dvalues):\n",
    "\n",
    "        self.dinputs= dvalues.copy()\n",
    "        self.dinputs[self.inputs<=0]=0\n",
    "\n",
    "    "
   ]
  }
 ],
 "metadata": {
  "kernelspec": {
   "display_name": "Python 3",
   "language": "python",
   "name": "python3"
  },
  "language_info": {
   "codemirror_mode": {
    "name": "ipython",
    "version": 3
   },
   "file_extension": ".py",
   "mimetype": "text/x-python",
   "name": "python",
   "nbconvert_exporter": "python",
   "pygments_lexer": "ipython3",
   "version": "3.11.5"
  }
 },
 "nbformat": 4,
 "nbformat_minor": 2
}
