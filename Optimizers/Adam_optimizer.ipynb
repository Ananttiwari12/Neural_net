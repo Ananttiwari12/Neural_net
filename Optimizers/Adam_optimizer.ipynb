{
 "cells": [
  {
   "cell_type": "code",
   "execution_count": 1,
   "metadata": {},
   "outputs": [],
   "source": [
    "import numpy as np"
   ]
  },
  {
   "cell_type": "code",
   "execution_count": 4,
   "metadata": {},
   "outputs": [],
   "source": [
    "class Adam_optimizer:\n",
    "    def __init__(self, lr=0.001, decay=0.5, beta1=0.9, beta2=0.999,epsilon=1e-7):\n",
    "        self.learning_rate = lr\n",
    "        self.decay = decay\n",
    "        self.beta1 = beta1\n",
    "        self.beta2 = beta2\n",
    "        self.iteration = 0\n",
    "        self.epsilon = epsilon\n",
    "        \n",
    "    def preupdate_params(self):\n",
    "        if self.decay:\n",
    "            self.learning_rate= self.learning_rate*(1.0/(1+self.decay*self.iteration))\n",
    "            \n",
    "            \n",
    "    def update_params(self, layer):\n",
    "        \n",
    "        if not hasattr(layer, 'weight_cache'):\n",
    "            layer.weight_cache= np.zeros_like(layer.weights)\n",
    "            layer.bias_cache=np.zeros_like(layer.biases)\n",
    "            layer.momentum_weight = np.zeros_like(layer.weights)\n",
    "            layer.momentum_bias = np.zeros_like(layer.biases) \n",
    "            \n",
    "        layer.momentum_weight= self.beta1*layer.momentum_weight+(1-self.beta1*layer.dweights)\n",
    "        layer.momentum_bias=self.beta1*layer.momentum_bias+(1-self.beta1*layer.dbiases)\n",
    "        \n",
    "        corrected_momentum_weight = layer.momentum_weight/(1-self.beta1**(self.iteration+1))\n",
    "        corrected_momentum_bias = layer.momentum_bias/(1-self.beta1**(self.iteration+1))\n",
    "        \n",
    "        layer.weight_cache= self.beta2*layer.weight_cache+(1-self.beta2*layer.dweights**2)\n",
    "        layer.bias_cache= self.beta2*layer.bias_cache+(1-self.beta2*layer.dbiases**2)\n",
    "        \n",
    "        corrected_cache_weight= self.beta2*layer.weight_cache/(1-self.beta2**(self.iteration+1))\n",
    "        corrected_bias_cache= self.beta2*layer.bias_cache/(1-self.beta2**(self.iteration+1))\n",
    "        \n",
    "        layer.weights= layer.weights- self.learning_rate*corrected_momentum_weight/(np.sqrt(corrected_cache_weight+self.epsilon))\n",
    "        layer.biases= layer.biases-self.learning_rate*corrected_momentum_bias/(np.sqrt(corrected_bias_cache+self.epsilon))\n",
    "    \n",
    "    def postupdate_params(self):\n",
    "        self.iteration += 1"
   ]
  }
 ],
 "metadata": {
  "kernelspec": {
   "display_name": "Python 3",
   "language": "python",
   "name": "python3"
  },
  "language_info": {
   "codemirror_mode": {
    "name": "ipython",
    "version": 3
   },
   "file_extension": ".py",
   "mimetype": "text/x-python",
   "name": "python",
   "nbconvert_exporter": "python",
   "pygments_lexer": "ipython3",
   "version": "3.11.5"
  }
 },
 "nbformat": 4,
 "nbformat_minor": 2
}
