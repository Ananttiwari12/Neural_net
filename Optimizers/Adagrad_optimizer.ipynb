{
 "cells": [
  {
   "cell_type": "code",
   "execution_count": 1,
   "metadata": {},
   "outputs": [],
   "source": [
    "import numpy as np"
   ]
  },
  {
   "cell_type": "code",
   "execution_count": 5,
   "metadata": {},
   "outputs": [],
   "source": [
    "class Adagrad_optimizer:\n",
    "    def __init__(self, lr=0.001, decay=0.5,epsilon=1e-7):\n",
    "        self.learning_rate = lr\n",
    "        self.decay = decay\n",
    "        self.iteration = 0\n",
    "        self.epsilon = epsilon\n",
    "        \n",
    "    def preupdate_params(self):\n",
    "        if self.decay:\n",
    "            self.learning_rate= self.learning_rate*(1.0/(1+self.decay*self.iteration))\n",
    "            \n",
    "            \n",
    "    def update_params(self, layer):\n",
    "        \n",
    "        if not hasattr(layer, 'weight_cache'):\n",
    "            layer.weight_cache= np.zeros_like(layer.weights)\n",
    "            layer.bias_cache=np.zeros_like(layer.biases)\n",
    "        \n",
    "        layer.weight_cache+=layer.dweights**2\n",
    "        layer.bias_cache+=layer.dbiases**2\n",
    "        \n",
    "        layer.weights= layer.weights- self.learning_rate/(np.sqrt(layer.weight_cache+self.epsilon))\n",
    "        layer.biases= layer.biases-self.learning_rate/(np.sqrt(layer.bias_cache+self.epsilon))\n",
    "    \n",
    "    def postupdate_params(self):\n",
    "        self.iteration += 1"
   ]
  }
 ],
 "metadata": {
  "kernelspec": {
   "display_name": "Python 3",
   "language": "python",
   "name": "python3"
  },
  "language_info": {
   "codemirror_mode": {
    "name": "ipython",
    "version": 3
   },
   "file_extension": ".py",
   "mimetype": "text/x-python",
   "name": "python",
   "nbconvert_exporter": "python",
   "pygments_lexer": "ipython3",
   "version": "3.11.5"
  }
 },
 "nbformat": 4,
 "nbformat_minor": 2
}
