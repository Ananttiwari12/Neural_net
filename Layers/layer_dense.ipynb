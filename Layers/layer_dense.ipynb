{
 "cells": [
  {
   "cell_type": "markdown",
   "metadata": {},
   "source": [
    "### Creating a dense layer class"
   ]
  },
  {
   "cell_type": "code",
   "execution_count": 1,
   "metadata": {},
   "outputs": [],
   "source": [
    "import numpy as np"
   ]
  },
  {
   "cell_type": "code",
   "execution_count": 2,
   "metadata": {},
   "outputs": [],
   "source": [
    "class layer_dense:\n",
    "    \n",
    "    def __init__(self, n_inputs, n_neurons):\n",
    "        self.weights=0.01*np.random.randn(n_inputs, n_neurons)\n",
    "        self.biases=np.zeros((1,n_neurons))\n",
    "        \n",
    "    def forward(self, inputs):\n",
    "        self.inputs=inputs\n",
    "        self.output= np.dot(inputs,self.weights)+self.biases\n",
    "        \n",
    "    def backward(self, dvalues):\n",
    "        self.dweights= np.dot(self.inputs.T, dvalues)\n",
    "        self.dbiases=np.sum(dvalues, axis=0, keepdims=True)\n",
    "        self.dinputs=np.dot(dvalues, self.weights.T)"
   ]
  }
 ],
 "metadata": {
  "kernelspec": {
   "display_name": "Python 3",
   "language": "python",
   "name": "python3"
  },
  "language_info": {
   "codemirror_mode": {
    "name": "ipython",
    "version": 3
   },
   "file_extension": ".py",
   "mimetype": "text/x-python",
   "name": "python",
   "nbconvert_exporter": "python",
   "pygments_lexer": "ipython3",
   "version": "3.11.5"
  }
 },
 "nbformat": 4,
 "nbformat_minor": 2
}
